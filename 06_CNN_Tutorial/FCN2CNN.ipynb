{
 "cells": [
  {
   "cell_type": "code",
   "metadata": {
    "id": "FaadnhbpCcsh",
    "ExecuteTime": {
     "end_time": "2024-10-23T13:46:24.376048Z",
     "start_time": "2024-10-23T13:46:21.593999Z"
    }
   },
   "source": [
    "import torch\n",
    "import torch.nn as nn\n",
    "\n",
    "from torchvision import datasets, transforms\n",
    "import torch.optim as optim\n",
    "\n",
    "import matplotlib.pyplot as plt\n",
    "from sklearn.metrics import accuracy_score\n",
    "\n",
    "from tqdm.auto import tqdm\n"
   ],
   "outputs": [],
   "execution_count": 1
  },
  {
   "cell_type": "markdown",
   "metadata": {
    "id": "Ly7lrx-gCuLy"
   },
   "source": [
    "# Xarxes convolucionals\n",
    "\n",
    "L'objectiu d'avui és la creació d'una xarxa convolucional que obtengui **com a mínim igual resultat que la xarxa completament connectada implementada la setmana anterior però amb menys paràmetres**. Per poder realitzar comparacions directes emprarem el mateix conjunt de dades.\n",
    "\n",
    "Com objectius secundaris tenim:\n",
    "\n",
    "1. Aprenentatge de noves estratègies per evitar `overfitting`.\n",
    "2. Visualització dels resultats dels filtres convolucionals.\n",
    "\n",
    "Primer de tot, com sempre, les dades:"
   ]
  },
  {
   "cell_type": "code",
   "metadata": {
    "id": "PwSoPhjXCvV9",
    "ExecuteTime": {
     "end_time": "2024-10-23T13:46:39.932918Z",
     "start_time": "2024-10-23T13:46:39.898906Z"
    }
   },
   "source": [
    "DOWNLOAD = False\n",
    "BATCH_SIZE = 64\n",
    "EPOCHS = 5\n",
    "\n",
    "transform = transforms.Compose([\n",
    "    transforms.ToTensor(),\n",
    "    transforms.Normalize((0.1307,), (0.3081,)),  # mitjana, desviació típica\n",
    "])\n",
    "\n",
    "train = datasets.MNIST(\"../data\", train=True, download=DOWNLOAD, transform=transform)\n",
    "test = datasets.MNIST(\"../data\", train=False, download=DOWNLOAD, transform=transform)\n",
    "\n",
    "train_loader = torch.utils.data.DataLoader(train, BATCH_SIZE)\n",
    "test_loader = torch.utils.data.DataLoader(test, BATCH_SIZE)"
   ],
   "outputs": [],
   "execution_count": 2
  },
  {
   "cell_type": "code",
   "metadata": {
    "ExecuteTime": {
     "end_time": "2024-10-23T13:46:43.070991Z",
     "start_time": "2024-10-23T13:46:43.046766Z"
    }
   },
   "source": [
    "img, target = next(iter(train_loader))\n",
    "print(img.shape)"
   ],
   "outputs": [
    {
     "name": "stdout",
     "output_type": "stream",
     "text": [
      "torch.Size([64, 1, 28, 28])\n"
     ]
    }
   ],
   "execution_count": 3
  },
  {
   "cell_type": "markdown",
   "metadata": {},
   "source": [
    "## Definició de la xarxa\n",
    "\n",
    "En primer lloc, reutilitzarem la xarxa (MLP) que varem dissenyar la sessió anterior:"
   ]
  },
  {
   "cell_type": "code",
   "metadata": {
    "ExecuteTime": {
     "end_time": "2024-10-23T13:46:46.635742Z",
     "start_time": "2024-10-23T13:46:46.631988Z"
    }
   },
   "source": [
    "model_mlp = nn.Sequential(\n",
    "            torch.nn.Linear(784, 10),\n",
    "            nn.ReLU(),\n",
    "            torch.nn.Linear(10, 10),\n",
    "            torch.nn.Dropout(0.2),\n",
    "            nn.ReLU(),\n",
    "            torch.nn.Linear(10, 1)\n",
    "        )"
   ],
   "outputs": [],
   "execution_count": 4
  },
  {
   "cell_type": "markdown",
   "metadata": {
    "id": "s8i4Mg8KuD3r"
   },
   "source": [
    "\n",
    "En segon lloc, definirem la nostra primera xarxa convolucional:\n",
    "\n",
    "1. Definir la primera xarxa convolucional. A continuació teniu una llista de les capes que podeu emprar:\n",
    "\n",
    "- `Conv2d`: Capa convolucional en 2 dimensions ([enllaç](https://pytorch.org/docs/stable/generated/torch.nn.Conv2d.html)). Com a paràmetres principals trobarem: ([visualització](https://github.com/vdumoulin/conv_arithmetic/blob/master/README.md))\n",
    "\n",
    "  - in_channels: canals d'entrada.\n",
    "  - out_channels : canals de sortida.\n",
    "  - kernel_size: mida del filtre.\n",
    "  - stride: desplaçament del filtre. Típicament pren per valor 1.\n",
    "  - padding: ampliació de la imatge per evitar pèrdua de dimensionalitat.\n",
    "\n",
    "- `MaxPool2d`: Capa de max pooling ([enllaç](https://pytorch.org/docs/stable/generated/torch.nn.MaxPool2d.html#torch.nn.MaxPool2d)). Aquesta capa no té paràmetres entrenables. Però en té d'altres:\n",
    "\n",
    "  - kernel_size: Mida del filtre del qual es seleccionarà el màxim.\n",
    "  - stride: desplaçament del filtre.\n",
    "\n",
    "- `Dropout`: Dropout és un mètode de regularització (evitar `overfitting`) que aproxima l'entrenament d'un gran nombre de xarxes neuronals amb diferents arquitectures en paral·lel. Durant l'entrenament, una part de les sortides de la capa s'ignoren aleatòriament o s'abandonen. Això té l'efecte de fer que la capa sembli i es tracti com una capa amb un nombre diferent de nodes i connectivitat a la capa anterior. En efecte, cada actualització d'una capa durant l'entrenament es realitza amb una vista diferent de la capa configurada. Hem d'especificar quines capes tenen `dropout` de manera individual. Té un únic paràmetre amb valor per defecte $p=0.5$ Els valors típics d'aquest paràmetre varien entre $0.5$ i $0.8$.\n",
    "\n",
    "- `Linear`\n",
    "\n",
    "- `ReLU`\n"
   ]
  },
  {
   "cell_type": "code",
   "metadata": {
    "ExecuteTime": {
     "end_time": "2024-10-23T14:41:51.255888Z",
     "start_time": "2024-10-23T14:41:51.251324Z"
    }
   },
   "source": [
    "model_cnn = nn.Sequential(\n",
    "    torch.nn.Conv2d(in_channels=1 , out_channels=4 , kernel_size=3 , stride=1, padding=\"same\" ),\n",
    "    torch.nn.MaxPool2d(kernel_size=(2,2)),\n",
    "    torch.nn.ReLU(),\n",
    "    \n",
    "    #Segona capa convolutional\n",
    "    torch.nn.Conv2d(in_channels=4 , out_channels=8 , kernel_size=3 , stride=1, padding=\"same\" ),\n",
    "    torch.nn.MaxPool2d(kernel_size=(2,2)),\n",
    "    torch.nn.ReLU(),\n",
    "    \n",
    "    torch.nn.Flatten(1),\n",
    "    \n",
    "    torch.nn.Linear(8*7*7, 10),\n",
    "    torch.nn.ReLU(),\n",
    "    torch.nn.Linear(10, 10),\n",
    "    torch.nn.ReLU(),\n",
    "    torch.nn.Linear(10, 1),\n",
    "    )"
   ],
   "outputs": [],
   "execution_count": 17
  },
  {
   "cell_type": "markdown",
   "metadata": {
    "id": "A6ISOL_hCk7g"
   },
   "source": [
    "## Entrenament MLP\n",
    "\n",
    "Aquesta part, per sort, no varia de la setmana anterior:\n",
    "\n",
    "\n"
   ]
  },
  {
   "cell_type": "code",
   "metadata": {
    "id": "h9OLtpPzClch",
    "ExecuteTime": {
     "end_time": "2024-10-23T13:48:17.800668Z",
     "start_time": "2024-10-23T13:48:17.798344Z"
    }
   },
   "source": [
    "loss_fn = torch.nn.BCEWithLogitsLoss()    \n",
    "learning_rate =  1e-3 # Hiperparàmetre\n",
    "optimizer = optim.Adam(model_mlp.parameters(), lr=learning_rate)"
   ],
   "outputs": [],
   "execution_count": 5
  },
  {
   "cell_type": "code",
   "metadata": {
    "ExecuteTime": {
     "end_time": "2024-10-23T13:48:33.385571Z",
     "start_time": "2024-10-23T13:48:19.979975Z"
    }
   },
   "source": [
    "running_loss = []\n",
    "running_acc = []\n",
    "\n",
    "running_test_loss = []\n",
    "running_test_acc = []\n",
    "\n",
    "for t in tqdm(range(EPOCHS), desc=\"Èpoques\"):\n",
    "    batch_loss = 0\n",
    "    batch_acc = 0\n",
    "    \n",
    "    # Iteram els batches.\n",
    "    for i_batch, (x, y) in tqdm(enumerate(train_loader), desc=f\"Batches (Època {t + 1})\"): \n",
    "        model_mlp.train() # Posam el model a mode entranament.\n",
    "        \n",
    "        x = x.reshape(x.shape[0], -1) # Aplanam la imatge.\n",
    "        \n",
    "        optimizer.zero_grad()\n",
    "\n",
    "        # 1. PREDICCIÓ\n",
    "        y_pred = model_mlp(x)\n",
    "\n",
    "        # 2. CÀLCUL DE LA PÈRDUA\n",
    "        # Computa la pèrdua: l'error de predicció vs el valor correcte\n",
    "        # Es guarda la pèrdua en un array per futures visualitzacions\n",
    "\n",
    "        y_binary = (y == 5)\n",
    "        y_binary = y_binary.double()\n",
    "        y_binary = y_binary.reshape(-1, 1)\n",
    "\n",
    "        loss = loss_fn(y_pred, y_binary)\n",
    "\n",
    "        #3. GRADIENT\n",
    "        model_mlp.zero_grad()\n",
    "        loss.backward()\n",
    "\n",
    "        # Actualitza els pesos utilitzant l'algorisme d'actualització\n",
    "        #4. OPTIMITZACIÓ\n",
    "        with torch.no_grad():\n",
    "            optimizer.step()\n",
    "    \n",
    "        # 5. AVALUAM EL MODEL\n",
    "        model_mlp.eval() # Mode avaluació de la xarxa\n",
    "        \n",
    "        y_pred = model_mlp(x)\n",
    "        y_pred_binary = (y_pred > 0.5).double()\n",
    "\n",
    "        batch_loss += (loss_fn(y_pred, y_binary).detach())\n",
    "        batch_acc += accuracy_score(y_pred_binary.detach(), y_binary.detach())\n",
    "\n",
    "    running_loss.append(batch_loss / (i_batch + 1))\n",
    "    running_acc.append(batch_acc / (i_batch + 1))\n",
    "\n",
    "    batch_test_loss = 0\n",
    "    batch_test_acc = 0\n",
    "    \n",
    "    for i_batch, (x, y) in enumerate(test_loader): \n",
    "        x = x.reshape(x.shape[0], -1) # Aplanam la imatge.\n",
    "        \n",
    "        y_binary = (y == 5)\n",
    "        y_binary = y_binary.double()\n",
    "        y_binary = y_binary.reshape(-1, 1)\n",
    "\n",
    "        y_pred = model_mlp(x)\n",
    "        y_pred_binary = (y_pred > 0.5).double()\n",
    "\n",
    "        batch_test_loss += (loss_fn(y_pred, y_binary).detach())\n",
    "        acc = accuracy_score(y_pred_binary.detach(), y_binary.detach())\n",
    "        batch_test_acc += acc\n",
    "        \n",
    "\n",
    "    running_test_loss.append(batch_test_loss / (i_batch + 1))\n",
    "    running_test_acc.append(batch_test_acc / (i_batch + 1))"
   ],
   "outputs": [
    {
     "data": {
      "text/plain": [
       "Èpoques:   0%|          | 0/5 [00:00<?, ?it/s]"
      ],
      "application/vnd.jupyter.widget-view+json": {
       "version_major": 2,
       "version_minor": 0,
       "model_id": "e378fe6c1ed1459d92f3440c4c0ea8d2"
      }
     },
     "metadata": {},
     "output_type": "display_data"
    },
    {
     "data": {
      "text/plain": [
       "Batches (Època 1): 0it [00:00, ?it/s]"
      ],
      "application/vnd.jupyter.widget-view+json": {
       "version_major": 2,
       "version_minor": 0,
       "model_id": "296730a7612f4c9c9bb29decfa482718"
      }
     },
     "metadata": {},
     "output_type": "display_data"
    },
    {
     "data": {
      "text/plain": [
       "Batches (Època 2): 0it [00:00, ?it/s]"
      ],
      "application/vnd.jupyter.widget-view+json": {
       "version_major": 2,
       "version_minor": 0,
       "model_id": "001b7ffeb79c468592e6a7f5f5b9ff88"
      }
     },
     "metadata": {},
     "output_type": "display_data"
    },
    {
     "data": {
      "text/plain": [
       "Batches (Època 3): 0it [00:00, ?it/s]"
      ],
      "application/vnd.jupyter.widget-view+json": {
       "version_major": 2,
       "version_minor": 0,
       "model_id": "2c776468d8924c638fc8dd309f42aac7"
      }
     },
     "metadata": {},
     "output_type": "display_data"
    },
    {
     "data": {
      "text/plain": [
       "Batches (Època 4): 0it [00:00, ?it/s]"
      ],
      "application/vnd.jupyter.widget-view+json": {
       "version_major": 2,
       "version_minor": 0,
       "model_id": "9c71800330e74290a5d55826810c48b8"
      }
     },
     "metadata": {},
     "output_type": "display_data"
    },
    {
     "data": {
      "text/plain": [
       "Batches (Època 5): 0it [00:00, ?it/s]"
      ],
      "application/vnd.jupyter.widget-view+json": {
       "version_major": 2,
       "version_minor": 0,
       "model_id": "242101f2f48647e59a0ec84edd039b3c"
      }
     },
     "metadata": {},
     "output_type": "display_data"
    }
   ],
   "execution_count": 6
  },
  {
   "cell_type": "code",
   "metadata": {
    "ExecuteTime": {
     "end_time": "2024-10-23T13:49:01.361866Z",
     "start_time": "2024-10-23T13:49:01.217628Z"
    }
   },
   "source": [
    "plt.subplot(1,2,1)\n",
    "plt.title(\"BCE per iteració\")\n",
    "plt.plot(running_loss, label=\"train\")\n",
    "plt.plot(running_test_loss, label=\"test\")\n",
    "plt.legend()\n",
    "\n",
    "plt.subplot(1,2,2)\n",
    "plt.title(\"Accuracy per iteració\")\n",
    "plt.plot(running_acc, label=\"train\")\n",
    "plt.plot(running_test_acc, label=\"test\")\n",
    "plt.legend()\n",
    "plt.show()"
   ],
   "outputs": [
    {
     "data": {
      "text/plain": [
       "<Figure size 640x480 with 2 Axes>"
      ],
      "image/png": "[encoded data removed]"
     },
     "metadata": {},
     "output_type": "display_data"
    }
   ],
   "execution_count": 7
  },
  {
   "cell_type": "code",
   "metadata": {
    "ExecuteTime": {
     "end_time": "2024-10-23T13:49:04.842379Z",
     "start_time": "2024-10-23T13:49:04.839875Z"
    }
   },
   "source": [
    "print(f\"Accuracy de la darrera iteració {running_test_acc[-1]} amb test\")"
   ],
   "outputs": [
    {
     "name": "stdout",
     "output_type": "stream",
     "text": [
      "Accuracy de la darrera iteració 0.9859673566878981 amb test\n"
     ]
    }
   ],
   "execution_count": 8
  },
  {
   "cell_type": "markdown",
   "metadata": {
    "collapsed": false,
    "jupyter": {
     "outputs_hidden": false
    }
   },
   "source": [
    "\n",
    "\n",
    "\n",
    "### Nombre de paràmetres entrenables d'una xarxa\n",
    "\n",
    "**Feina a fer:**\n",
    "1. Mostrar el nombre de paràmetres de la xarxa: \n",
    "```\n",
    "pytorch_total_params = sum(p.numel() for p in model.parameters() if p.requires_grad)\n",
    "```"
   ]
  },
  {
   "cell_type": "code",
   "metadata": {
    "ExecuteTime": {
     "end_time": "2024-10-23T13:58:24.405877Z",
     "start_time": "2024-10-23T13:58:24.403170Z"
    }
   },
   "source": [
    "#TODO\n",
    "pytorch_total_params = sum(p.numel() for p in model_mlp.parameters() if p.requires_grad)\n",
    "print(pytorch_total_params)"
   ],
   "outputs": [
    {
     "name": "stdout",
     "output_type": "stream",
     "text": [
      "7971\n"
     ]
    }
   ],
   "execution_count": 12
  },
  {
   "cell_type": "markdown",
   "metadata": {},
   "source": [
    "## Entrenament CNN\n",
    "\n",
    "Ara repetirem el mateix que abans, adaptant el codi a la nova arquitectura:"
   ]
  },
  {
   "cell_type": "code",
   "metadata": {
    "ExecuteTime": {
     "end_time": "2024-10-23T14:44:41.323402Z",
     "start_time": "2024-10-23T14:44:12.416250Z"
    }
   },
   "source": [
    "loss_fn = torch.nn.BCEWithLogitsLoss()\n",
    "learning_rate = 1e-3  # Hiperparàmetre\n",
    "optimizer = optim.Adam(model_cnn.parameters(), lr=learning_rate)\n",
    "\n",
    "running_loss = []\n",
    "running_acc = []\n",
    "\n",
    "running_test_loss = []\n",
    "running_test_acc_cnn = []\n",
    "\n",
    "\n",
    "#TODO: COPIAR I ADAPTAR\n",
    "\n",
    "for t in tqdm(range(EPOCHS), desc=\"Èpoques\"):\n",
    "    batch_loss = 0\n",
    "    batch_acc = 0\n",
    "\n",
    "    # Iteram els batches.\n",
    "    for i_batch, (x, y) in tqdm(enumerate(train_loader), desc=f\"Batches (Època {t + 1})\"):\n",
    "        model_cnn.train()  # Posam el model a mode entranament.\n",
    "\n",
    "        optimizer.zero_grad()\n",
    "\n",
    "        # 1. PREDICCIÓ\n",
    "        y_pred = model_cnn(x)\n",
    "\n",
    "        # 2. CÀLCUL DE LA PÈRDUA\n",
    "        # Computa la pèrdua: l'error de predicció vs el valor correcte\n",
    "        # Es guarda la pèrdua en un array per futures visualitzacions\n",
    "\n",
    "        y_binary = (y == 5)\n",
    "        y_binary = y_binary.double()\n",
    "        y_binary = y_binary.reshape(-1, 1)\n",
    "\n",
    "        loss = loss_fn(y_pred, y_binary)\n",
    "\n",
    "        #3. GRADIENT\n",
    "        model_cnn.zero_grad()\n",
    "        loss.backward()\n",
    "\n",
    "        # Actualitza els pesos utilitzant l'algorisme d'actualització\n",
    "        #4. OPTIMITZACIÓ\n",
    "        with torch.no_grad():\n",
    "            optimizer.step()\n",
    "\n",
    "        # 5. AVALUAM EL MODEL\n",
    "        model_mlp.eval()  # Mode avaluació de la xarxa\n",
    "\n",
    "        y_pred = model_cnn(x)\n",
    "        y_pred_binary = (y_pred > 0.5).double()\n",
    "\n",
    "        batch_loss += (loss_fn(y_pred, y_binary).detach())\n",
    "        batch_acc += accuracy_score(y_pred_binary.detach(), y_binary.detach())\n",
    "\n",
    "    running_loss.append(batch_loss / (i_batch + 1))\n",
    "    running_acc.append(batch_acc / (i_batch + 1))\n",
    "\n",
    "    batch_test_loss = 0\n",
    "    batch_test_acc = 0\n",
    "\n",
    "    for i_batch, (x, y) in enumerate(test_loader):\n",
    "\n",
    "        y_binary = (y == 5)\n",
    "        y_binary = y_binary.double()\n",
    "        y_binary = y_binary.reshape(-1, 1)\n",
    "\n",
    "        y_pred = model_cnn(x)\n",
    "        y_pred_binary = (y_pred > 0.5).double()\n",
    "\n",
    "        batch_test_loss += (loss_fn(y_pred, y_binary).detach())\n",
    "        acc = accuracy_score(y_pred_binary.detach(), y_binary.detach())\n",
    "        batch_test_acc += acc\n",
    "\n",
    "    running_test_loss.append(batch_test_loss / (i_batch + 1))\n",
    "    running_test_acc_cnn.append(batch_test_acc / (i_batch + 1))"
   ],
   "outputs": [
    {
     "data": {
      "text/plain": [
       "Èpoques:   0%|          | 0/5 [00:00<?, ?it/s]"
      ],
      "application/vnd.jupyter.widget-view+json": {
       "version_major": 2,
       "version_minor": 0,
       "model_id": "5ccdf8a31915433f8d43890f9f486087"
      }
     },
     "metadata": {},
     "output_type": "display_data"
    },
    {
     "data": {
      "text/plain": [
       "Batches (Època 1): 0it [00:00, ?it/s]"
      ],
      "application/vnd.jupyter.widget-view+json": {
       "version_major": 2,
       "version_minor": 0,
       "model_id": "8feada87c1934a50b94b5293d6000e99"
      }
     },
     "metadata": {},
     "output_type": "display_data"
    },
    {
     "data": {
      "text/plain": [
       "Batches (Època 2): 0it [00:00, ?it/s]"
      ],
      "application/vnd.jupyter.widget-view+json": {
       "version_major": 2,
       "version_minor": 0,
       "model_id": "6ff0e3466cdc4b2b8468c6f8af36a94d"
      }
     },
     "metadata": {},
     "output_type": "display_data"
    },
    {
     "data": {
      "text/plain": [
       "Batches (Època 3): 0it [00:00, ?it/s]"
      ],
      "application/vnd.jupyter.widget-view+json": {
       "version_major": 2,
       "version_minor": 0,
       "model_id": "e07e8897a4cc488ebdb6af317e9d0ab1"
      }
     },
     "metadata": {},
     "output_type": "display_data"
    },
    {
     "data": {
      "text/plain": [
       "Batches (Època 4): 0it [00:00, ?it/s]"
      ],
      "application/vnd.jupyter.widget-view+json": {
       "version_major": 2,
       "version_minor": 0,
       "model_id": "70b796186e634629955de6390165237e"
      }
     },
     "metadata": {},
     "output_type": "display_data"
    },
    {
     "data": {
      "text/plain": [
       "Batches (Època 5): 0it [00:00, ?it/s]"
      ],
      "application/vnd.jupyter.widget-view+json": {
       "version_major": 2,
       "version_minor": 0,
       "model_id": "ef612c3386ad4bff93e6307b2030c0f7"
      }
     },
     "metadata": {},
     "output_type": "display_data"
    }
   ],
   "execution_count": 20
  },
  {
   "cell_type": "code",
   "metadata": {
    "ExecuteTime": {
     "end_time": "2024-10-23T14:45:13.263230Z",
     "start_time": "2024-10-23T14:45:13.188161Z"
    }
   },
   "source": [
    "plt.subplot(1,2,1)\n",
    "plt.title(\"BCE per iteració CNN\")\n",
    "plt.plot(running_loss, label=\"train\")\n",
    "plt.plot(running_test_loss, label=\"test\")\n",
    "plt.legend()\n",
    "\n",
    "plt.subplot(1,2,2)\n",
    "plt.title(\"Accuracy per iteració CNN\")\n",
    "plt.plot(running_acc, label=\"train\")\n",
    "plt.plot(running_test_acc_cnn, label=\"test\")\n",
    "plt.legend()\n",
    "plt.show()"
   ],
   "outputs": [
    {
     "data": {
      "text/plain": [
       "<Figure size 640x480 with 2 Axes>"
      ],
      "image/png": "[encoded data removed]"
     },
     "metadata": {},
     "output_type": "display_data"
    }
   ],
   "execution_count": 21
  },
  {
   "cell_type": "code",
   "metadata": {
    "ExecuteTime": {
     "end_time": "2024-10-23T14:45:16.804141Z",
     "start_time": "2024-10-23T14:45:16.800873Z"
    }
   },
   "source": [
    "running_test_acc_cnn[-1]"
   ],
   "outputs": [
    {
     "data": {
      "text/plain": [
       "0.9966162420382165"
      ]
     },
     "execution_count": 22,
     "metadata": {},
     "output_type": "execute_result"
    }
   ],
   "execution_count": 22
  },
  {
   "cell_type": "markdown",
   "metadata": {},
   "source": [
    "Ara mirarem el nombre de paràmetres que té aquesta xarxa:"
   ]
  },
  {
   "cell_type": "code",
   "metadata": {
    "ExecuteTime": {
     "end_time": "2024-10-23T14:46:38.316422Z",
     "start_time": "2024-10-23T14:46:38.313684Z"
    }
   },
   "source": [
    "# TODO: COPIAR I ADAPTAR\n",
    "pytorch_total_params_cnn = sum(p.numel() for p in model_cnn.parameters() if p.requires_grad)\n",
    "print(pytorch_total_params_cnn)"
   ],
   "outputs": [
    {
     "name": "stdout",
     "output_type": "stream",
     "text": [
      "4387\n"
     ]
    }
   ],
   "execution_count": 23
  },
  {
   "cell_type": "markdown",
   "metadata": {
    "id": "wjeMWK8cJkqN"
   },
   "source": [
    "## Resultats\n",
    "\n",
    "Aquí visualitzarem els resultats d'aprenentatge de la xarxa. \n",
    "\n",
    "### Feina a fer:\n",
    "\n",
    "1. Fer una predicció del primer _batch_ del conjunt de _test_.\n",
    "2. Visualitzar una imatge del _batch_ i posar la predicció i el ground truth com a títol.\n",
    "3. Visualitzar el resultat de la mateixa imatge en tots els filtres de la primera convolució de la vostra xarxa.\n",
    "\n",
    "\n",
    "*Subplots*\n",
    "\n",
    "Per fer graelles d'imatges podeu empar la funció `subplots`. Més [informació](https://matplotlib.org/stable/api/_as_gen/matplotlib.pyplot.subplots.html)\n",
    "\n"
   ]
  },
  {
   "cell_type": "code",
   "metadata": {
    "id": "SYKUppOc_4JE",
    "ExecuteTime": {
     "end_time": "2024-10-23T15:04:21.824906Z",
     "start_time": "2024-10-23T15:04:21.764166Z"
    }
   },
   "source": [
    "def generador(loader):\n",
    "    for data, target in loader:\n",
    "        yield data, target\n",
    "\n",
    "gen = generador(test_loader)\n",
    "data, true_labels = next(gen)\n",
    "\n",
    "model_cnn.eval()\n",
    "\n",
    "output = model_cnn(data)\n",
    "y_pred_binary = (output > 0.5).double()\n",
    "images = data.numpy()\n",
    "\n",
    "idx = 8  # El idx 8 és una imatge que conté un 5, el 0 no.\n",
    "\n",
    "plt.title(f'Pred: {int(y_pred_binary[idx])} - True: {int(true_labels[idx])}')\n",
    "plt.imshow(images[idx,0,:,:]);"
   ],
   "outputs": [
    {
     "data": {
      "text/plain": [
       "<Figure size 640x480 with 1 Axes>"
      ],
      "image/png": "[encoded data removed]"
     },
     "metadata": {},
     "output_type": "display_data"
    }
   ],
   "execution_count": 26
  },
  {
   "cell_type": "code",
   "metadata": {
    "ExecuteTime": {
     "end_time": "2024-10-23T15:04:25.511646Z",
     "start_time": "2024-10-23T15:04:25.398051Z"
    }
   },
   "source": [
    "\n",
    "fig, axs = plt.subplots(2, 2)\n",
    "\n",
    "convolution = model_cnn[0](data)  # Podem accedir a les capes d'un bloc Sequential com si fossin una llista\n",
    "convolution = convolution.detach().numpy()\n",
    "\n",
    "axs[0,0].imshow(convolution[idx,0,:,:])\n",
    "axs[0,1].imshow(convolution[idx,1,:,:])\n",
    "axs[1,0].imshow(convolution[idx,2,:,:])\n",
    "axs[1,1].imshow(convolution[idx,3,:,:]);"
   ],
   "outputs": [
    {
     "data": {
      "text/plain": [
       "<Figure size 640x480 with 4 Axes>"
      ],
      "image/png": "[encoded data removed]"
     },
     "metadata": {},
     "output_type": "display_data"
    }
   ],
   "execution_count": 27
  }
 ],
 "metadata": {
  "accelerator": "GPU",
  "colab": {
   "provenance": []
  },
  "gpuClass": "standard",
  "kernelspec": {
   "display_name": "Python 3 (ipykernel)",
   "language": "python",
   "name": "python3"
  },
  "language_info": {
   "codemirror_mode": {
    "name": "ipython",
    "version": 3
   },
   "file_extension": ".py",
   "mimetype": "text/x-python",
   "name": "python",
   "nbconvert_exporter": "python",
   "pygments_lexer": "ipython3",
   "version": "3.8.19"
  }
 },
 "nbformat": 4,
 "nbformat_minor": 4
}
