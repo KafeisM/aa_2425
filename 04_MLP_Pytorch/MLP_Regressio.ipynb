{
 "cells": [
  {
   "cell_type": "code",
   "id": "initial_id",
   "metadata": {
    "collapsed": true,
    "ExecuteTime": {
     "end_time": "2024-10-17T14:40:51.748307Z",
     "start_time": "2024-10-17T14:40:50.647572Z"
    }
   },
   "source": [
    "import torch\n",
    "import math\n",
    "import torch.optim as optim\n",
    "import numpy as np\n",
    "import matplotlib.pyplot as plt\n",
    "from sklearn.model_selection import train_test_split\n",
    "\n",
    "\n",
    "from sklearn.datasets import make_friedman1"
   ],
   "outputs": [
    {
     "name": "stderr",
     "output_type": "stream",
     "text": [
      "\n",
      "A module that was compiled using NumPy 1.x cannot be run in\n",
      "NumPy 2.1.2 as it may crash. To support both 1.x and 2.x\n",
      "versions of NumPy, modules must be compiled with NumPy 2.0.\n",
      "Some module may need to rebuild instead e.g. with 'pybind11>=2.12'.\n",
      "\n",
      "If you are a user of the module, the easiest solution will be to\n",
      "downgrade to 'numpy<2' or try to upgrade the affected module.\n",
      "We expect that some modules will need time to support NumPy 2.\n",
      "\n",
      "Traceback (most recent call last):  File \"<frozen runpy>\", line 198, in _run_module_as_main\n",
      "  File \"<frozen runpy>\", line 88, in _run_code\n",
      "  File \"/Users/jordi/miniconda3/envs/aa2024/lib/python3.11/site-packages/ipykernel_launcher.py\", line 18, in <module>\n",
      "    app.launch_new_instance()\n",
      "  File \"/Users/jordi/miniconda3/envs/aa2024/lib/python3.11/site-packages/traitlets/config/application.py\", line 1075, in launch_instance\n",
      "    app.start()\n",
      "  File \"/Users/jordi/miniconda3/envs/aa2024/lib/python3.11/site-packages/ipykernel/kernelapp.py\", line 739, in start\n",
      "    self.io_loop.start()\n",
      "  File \"/Users/jordi/miniconda3/envs/aa2024/lib/python3.11/site-packages/tornado/platform/asyncio.py\", line 205, in start\n",
      "    self.asyncio_loop.run_forever()\n",
      "  File \"/Users/jordi/miniconda3/envs/aa2024/lib/python3.11/asyncio/base_events.py\", line 608, in run_forever\n",
      "    self._run_once()\n",
      "  File \"/Users/jordi/miniconda3/envs/aa2024/lib/python3.11/asyncio/base_events.py\", line 1936, in _run_once\n",
      "    handle._run()\n",
      "  File \"/Users/jordi/miniconda3/envs/aa2024/lib/python3.11/asyncio/events.py\", line 84, in _run\n",
      "    self._context.run(self._callback, *self._args)\n",
      "  File \"/Users/jordi/miniconda3/envs/aa2024/lib/python3.11/site-packages/ipykernel/kernelbase.py\", line 545, in dispatch_queue\n",
      "    await self.process_one()\n",
      "  File \"/Users/jordi/miniconda3/envs/aa2024/lib/python3.11/site-packages/ipykernel/kernelbase.py\", line 534, in process_one\n",
      "    await dispatch(*args)\n",
      "  File \"/Users/jordi/miniconda3/envs/aa2024/lib/python3.11/site-packages/ipykernel/kernelbase.py\", line 437, in dispatch_shell\n",
      "    await result\n",
      "  File \"/Users/jordi/miniconda3/envs/aa2024/lib/python3.11/site-packages/ipykernel/ipkernel.py\", line 362, in execute_request\n",
      "    await super().execute_request(stream, ident, parent)\n",
      "  File \"/Users/jordi/miniconda3/envs/aa2024/lib/python3.11/site-packages/ipykernel/kernelbase.py\", line 778, in execute_request\n",
      "    reply_content = await reply_content\n",
      "  File \"/Users/jordi/miniconda3/envs/aa2024/lib/python3.11/site-packages/ipykernel/ipkernel.py\", line 449, in do_execute\n",
      "    res = shell.run_cell(\n",
      "  File \"/Users/jordi/miniconda3/envs/aa2024/lib/python3.11/site-packages/ipykernel/zmqshell.py\", line 549, in run_cell\n",
      "    return super().run_cell(*args, **kwargs)\n",
      "  File \"/Users/jordi/miniconda3/envs/aa2024/lib/python3.11/site-packages/IPython/core/interactiveshell.py\", line 3075, in run_cell\n",
      "    result = self._run_cell(\n",
      "  File \"/Users/jordi/miniconda3/envs/aa2024/lib/python3.11/site-packages/IPython/core/interactiveshell.py\", line 3130, in _run_cell\n",
      "    result = runner(coro)\n",
      "  File \"/Users/jordi/miniconda3/envs/aa2024/lib/python3.11/site-packages/IPython/core/async_helpers.py\", line 128, in _pseudo_sync_runner\n",
      "    coro.send(None)\n",
      "  File \"/Users/jordi/miniconda3/envs/aa2024/lib/python3.11/site-packages/IPython/core/interactiveshell.py\", line 3334, in run_cell_async\n",
      "    has_raised = await self.run_ast_nodes(code_ast.body, cell_name,\n",
      "  File \"/Users/jordi/miniconda3/envs/aa2024/lib/python3.11/site-packages/IPython/core/interactiveshell.py\", line 3517, in run_ast_nodes\n",
      "    if await self.run_code(code, result, async_=asy):\n",
      "  File \"/Users/jordi/miniconda3/envs/aa2024/lib/python3.11/site-packages/IPython/core/interactiveshell.py\", line 3577, in run_code\n",
      "    exec(code_obj, self.user_global_ns, self.user_ns)\n",
      "  File \"/var/folders/7q/lmyjwwf137vf_6fnwqvpcbr80000gn/T/ipykernel_34424/2482010449.py\", line 5, in <module>\n",
      "    import matplotlib.pyplot as plt\n",
      "  File \"/Users/jordi/miniconda3/envs/aa2024/lib/python3.11/site-packages/matplotlib/__init__.py\", line 159, in <module>\n",
      "    from . import _api, _version, cbook, _docstring, rcsetup\n",
      "  File \"/Users/jordi/miniconda3/envs/aa2024/lib/python3.11/site-packages/matplotlib/rcsetup.py\", line 28, in <module>\n",
      "    from matplotlib.colors import Colormap, is_color_like\n",
      "  File \"/Users/jordi/miniconda3/envs/aa2024/lib/python3.11/site-packages/matplotlib/colors.py\", line 57, in <module>\n",
      "    from matplotlib import _api, _cm, cbook, scale\n",
      "  File \"/Users/jordi/miniconda3/envs/aa2024/lib/python3.11/site-packages/matplotlib/scale.py\", line 22, in <module>\n",
      "    from matplotlib.ticker import (\n",
      "  File \"/Users/jordi/miniconda3/envs/aa2024/lib/python3.11/site-packages/matplotlib/ticker.py\", line 144, in <module>\n",
      "    from matplotlib import transforms as mtransforms\n",
      "  File \"/Users/jordi/miniconda3/envs/aa2024/lib/python3.11/site-packages/matplotlib/transforms.py\", line 49, in <module>\n",
      "    from matplotlib._path import (\n"
     ]
    },
    {
     "ename": "AttributeError",
     "evalue": "_ARRAY_API not found",
     "output_type": "error",
     "traceback": [
      "\u001B[0;31m---------------------------------------------------------------------------\u001B[0m",
      "\u001B[0;31mAttributeError\u001B[0m                            Traceback (most recent call last)",
      "\u001B[0;31mAttributeError\u001B[0m: _ARRAY_API not found"
     ]
    },
    {
     "ename": "ImportError",
     "evalue": "initialization failed",
     "output_type": "error",
     "traceback": [
      "\u001B[0;31m---------------------------------------------------------------------------\u001B[0m",
      "\u001B[0;31mImportError\u001B[0m                               Traceback (most recent call last)",
      "\u001B[0;31mImportError\u001B[0m: numpy.core.multiarray failed to import",
      "\nThe above exception was the direct cause of the following exception:\n",
      "\u001B[0;31mImportError\u001B[0m                               Traceback (most recent call last)",
      "Cell \u001B[0;32mIn[1], line 5\u001B[0m\n\u001B[1;32m      3\u001B[0m \u001B[38;5;28;01mimport\u001B[39;00m \u001B[38;5;21;01mtorch\u001B[39;00m\u001B[38;5;21;01m.\u001B[39;00m\u001B[38;5;21;01moptim\u001B[39;00m \u001B[38;5;28;01mas\u001B[39;00m \u001B[38;5;21;01moptim\u001B[39;00m\n\u001B[1;32m      4\u001B[0m \u001B[38;5;28;01mimport\u001B[39;00m \u001B[38;5;21;01mnumpy\u001B[39;00m \u001B[38;5;28;01mas\u001B[39;00m \u001B[38;5;21;01mnp\u001B[39;00m\n\u001B[0;32m----> 5\u001B[0m \u001B[38;5;28;01mimport\u001B[39;00m \u001B[38;5;21;01mmatplotlib\u001B[39;00m\u001B[38;5;21;01m.\u001B[39;00m\u001B[38;5;21;01mpyplot\u001B[39;00m \u001B[38;5;28;01mas\u001B[39;00m \u001B[38;5;21;01mplt\u001B[39;00m\n\u001B[1;32m      6\u001B[0m \u001B[38;5;28;01mfrom\u001B[39;00m \u001B[38;5;21;01msklearn\u001B[39;00m\u001B[38;5;21;01m.\u001B[39;00m\u001B[38;5;21;01mmodel_selection\u001B[39;00m \u001B[38;5;28;01mimport\u001B[39;00m train_test_split\n\u001B[1;32m      9\u001B[0m \u001B[38;5;28;01mfrom\u001B[39;00m \u001B[38;5;21;01msklearn\u001B[39;00m\u001B[38;5;21;01m.\u001B[39;00m\u001B[38;5;21;01mdatasets\u001B[39;00m \u001B[38;5;28;01mimport\u001B[39;00m make_friedman1\n",
      "File \u001B[0;32m~/miniconda3/envs/aa2024/lib/python3.11/site-packages/matplotlib/__init__.py:159\u001B[0m\n\u001B[1;32m    155\u001B[0m \u001B[38;5;28;01mfrom\u001B[39;00m \u001B[38;5;21;01mpackaging\u001B[39;00m\u001B[38;5;21;01m.\u001B[39;00m\u001B[38;5;21;01mversion\u001B[39;00m \u001B[38;5;28;01mimport\u001B[39;00m parse \u001B[38;5;28;01mas\u001B[39;00m parse_version\n\u001B[1;32m    157\u001B[0m \u001B[38;5;66;03m# cbook must import matplotlib only within function\u001B[39;00m\n\u001B[1;32m    158\u001B[0m \u001B[38;5;66;03m# definitions, so it is safe to import from it here.\u001B[39;00m\n\u001B[0;32m--> 159\u001B[0m \u001B[38;5;28;01mfrom\u001B[39;00m \u001B[38;5;21;01m.\u001B[39;00m \u001B[38;5;28;01mimport\u001B[39;00m _api, _version, cbook, _docstring, rcsetup\n\u001B[1;32m    160\u001B[0m \u001B[38;5;28;01mfrom\u001B[39;00m \u001B[38;5;21;01mmatplotlib\u001B[39;00m\u001B[38;5;21;01m.\u001B[39;00m\u001B[38;5;21;01mcbook\u001B[39;00m \u001B[38;5;28;01mimport\u001B[39;00m sanitize_sequence\n\u001B[1;32m    161\u001B[0m \u001B[38;5;28;01mfrom\u001B[39;00m \u001B[38;5;21;01mmatplotlib\u001B[39;00m\u001B[38;5;21;01m.\u001B[39;00m\u001B[38;5;21;01m_api\u001B[39;00m \u001B[38;5;28;01mimport\u001B[39;00m MatplotlibDeprecationWarning\n",
      "File \u001B[0;32m~/miniconda3/envs/aa2024/lib/python3.11/site-packages/matplotlib/rcsetup.py:28\u001B[0m\n\u001B[1;32m     26\u001B[0m \u001B[38;5;28;01mfrom\u001B[39;00m \u001B[38;5;21;01mmatplotlib\u001B[39;00m\u001B[38;5;21;01m.\u001B[39;00m\u001B[38;5;21;01mbackends\u001B[39;00m \u001B[38;5;28;01mimport\u001B[39;00m BackendFilter, backend_registry\n\u001B[1;32m     27\u001B[0m \u001B[38;5;28;01mfrom\u001B[39;00m \u001B[38;5;21;01mmatplotlib\u001B[39;00m\u001B[38;5;21;01m.\u001B[39;00m\u001B[38;5;21;01mcbook\u001B[39;00m \u001B[38;5;28;01mimport\u001B[39;00m ls_mapper\n\u001B[0;32m---> 28\u001B[0m \u001B[38;5;28;01mfrom\u001B[39;00m \u001B[38;5;21;01mmatplotlib\u001B[39;00m\u001B[38;5;21;01m.\u001B[39;00m\u001B[38;5;21;01mcolors\u001B[39;00m \u001B[38;5;28;01mimport\u001B[39;00m Colormap, is_color_like\n\u001B[1;32m     29\u001B[0m \u001B[38;5;28;01mfrom\u001B[39;00m \u001B[38;5;21;01mmatplotlib\u001B[39;00m\u001B[38;5;21;01m.\u001B[39;00m\u001B[38;5;21;01m_fontconfig_pattern\u001B[39;00m \u001B[38;5;28;01mimport\u001B[39;00m parse_fontconfig_pattern\n\u001B[1;32m     30\u001B[0m \u001B[38;5;28;01mfrom\u001B[39;00m \u001B[38;5;21;01mmatplotlib\u001B[39;00m\u001B[38;5;21;01m.\u001B[39;00m\u001B[38;5;21;01m_enums\u001B[39;00m \u001B[38;5;28;01mimport\u001B[39;00m JoinStyle, CapStyle\n",
      "File \u001B[0;32m~/miniconda3/envs/aa2024/lib/python3.11/site-packages/matplotlib/colors.py:57\u001B[0m\n\u001B[1;32m     55\u001B[0m \u001B[38;5;28;01mimport\u001B[39;00m \u001B[38;5;21;01mmatplotlib\u001B[39;00m \u001B[38;5;28;01mas\u001B[39;00m \u001B[38;5;21;01mmpl\u001B[39;00m\n\u001B[1;32m     56\u001B[0m \u001B[38;5;28;01mimport\u001B[39;00m \u001B[38;5;21;01mnumpy\u001B[39;00m \u001B[38;5;28;01mas\u001B[39;00m \u001B[38;5;21;01mnp\u001B[39;00m\n\u001B[0;32m---> 57\u001B[0m \u001B[38;5;28;01mfrom\u001B[39;00m \u001B[38;5;21;01mmatplotlib\u001B[39;00m \u001B[38;5;28;01mimport\u001B[39;00m _api, _cm, cbook, scale\n\u001B[1;32m     58\u001B[0m \u001B[38;5;28;01mfrom\u001B[39;00m \u001B[38;5;21;01m.\u001B[39;00m\u001B[38;5;21;01m_color_data\u001B[39;00m \u001B[38;5;28;01mimport\u001B[39;00m BASE_COLORS, TABLEAU_COLORS, CSS4_COLORS, XKCD_COLORS\n\u001B[1;32m     61\u001B[0m \u001B[38;5;28;01mclass\u001B[39;00m \u001B[38;5;21;01m_ColorMapping\u001B[39;00m(\u001B[38;5;28mdict\u001B[39m):\n",
      "File \u001B[0;32m~/miniconda3/envs/aa2024/lib/python3.11/site-packages/matplotlib/scale.py:22\u001B[0m\n\u001B[1;32m     20\u001B[0m \u001B[38;5;28;01mimport\u001B[39;00m \u001B[38;5;21;01mmatplotlib\u001B[39;00m \u001B[38;5;28;01mas\u001B[39;00m \u001B[38;5;21;01mmpl\u001B[39;00m\n\u001B[1;32m     21\u001B[0m \u001B[38;5;28;01mfrom\u001B[39;00m \u001B[38;5;21;01mmatplotlib\u001B[39;00m \u001B[38;5;28;01mimport\u001B[39;00m _api, _docstring\n\u001B[0;32m---> 22\u001B[0m \u001B[38;5;28;01mfrom\u001B[39;00m \u001B[38;5;21;01mmatplotlib\u001B[39;00m\u001B[38;5;21;01m.\u001B[39;00m\u001B[38;5;21;01mticker\u001B[39;00m \u001B[38;5;28;01mimport\u001B[39;00m (\n\u001B[1;32m     23\u001B[0m     NullFormatter, ScalarFormatter, LogFormatterSciNotation, LogitFormatter,\n\u001B[1;32m     24\u001B[0m     NullLocator, LogLocator, AutoLocator, AutoMinorLocator,\n\u001B[1;32m     25\u001B[0m     SymmetricalLogLocator, AsinhLocator, LogitLocator)\n\u001B[1;32m     26\u001B[0m \u001B[38;5;28;01mfrom\u001B[39;00m \u001B[38;5;21;01mmatplotlib\u001B[39;00m\u001B[38;5;21;01m.\u001B[39;00m\u001B[38;5;21;01mtransforms\u001B[39;00m \u001B[38;5;28;01mimport\u001B[39;00m Transform, IdentityTransform\n\u001B[1;32m     29\u001B[0m \u001B[38;5;28;01mclass\u001B[39;00m \u001B[38;5;21;01mScaleBase\u001B[39;00m:\n",
      "File \u001B[0;32m~/miniconda3/envs/aa2024/lib/python3.11/site-packages/matplotlib/ticker.py:144\u001B[0m\n\u001B[1;32m    142\u001B[0m \u001B[38;5;28;01mimport\u001B[39;00m \u001B[38;5;21;01mmatplotlib\u001B[39;00m \u001B[38;5;28;01mas\u001B[39;00m \u001B[38;5;21;01mmpl\u001B[39;00m\n\u001B[1;32m    143\u001B[0m \u001B[38;5;28;01mfrom\u001B[39;00m \u001B[38;5;21;01mmatplotlib\u001B[39;00m \u001B[38;5;28;01mimport\u001B[39;00m _api, cbook\n\u001B[0;32m--> 144\u001B[0m \u001B[38;5;28;01mfrom\u001B[39;00m \u001B[38;5;21;01mmatplotlib\u001B[39;00m \u001B[38;5;28;01mimport\u001B[39;00m transforms \u001B[38;5;28;01mas\u001B[39;00m mtransforms\n\u001B[1;32m    146\u001B[0m _log \u001B[38;5;241m=\u001B[39m logging\u001B[38;5;241m.\u001B[39mgetLogger(\u001B[38;5;18m__name__\u001B[39m)\n\u001B[1;32m    148\u001B[0m __all__ \u001B[38;5;241m=\u001B[39m (\u001B[38;5;124m'\u001B[39m\u001B[38;5;124mTickHelper\u001B[39m\u001B[38;5;124m'\u001B[39m, \u001B[38;5;124m'\u001B[39m\u001B[38;5;124mFormatter\u001B[39m\u001B[38;5;124m'\u001B[39m, \u001B[38;5;124m'\u001B[39m\u001B[38;5;124mFixedFormatter\u001B[39m\u001B[38;5;124m'\u001B[39m,\n\u001B[1;32m    149\u001B[0m            \u001B[38;5;124m'\u001B[39m\u001B[38;5;124mNullFormatter\u001B[39m\u001B[38;5;124m'\u001B[39m, \u001B[38;5;124m'\u001B[39m\u001B[38;5;124mFuncFormatter\u001B[39m\u001B[38;5;124m'\u001B[39m, \u001B[38;5;124m'\u001B[39m\u001B[38;5;124mFormatStrFormatter\u001B[39m\u001B[38;5;124m'\u001B[39m,\n\u001B[1;32m    150\u001B[0m            \u001B[38;5;124m'\u001B[39m\u001B[38;5;124mStrMethodFormatter\u001B[39m\u001B[38;5;124m'\u001B[39m, \u001B[38;5;124m'\u001B[39m\u001B[38;5;124mScalarFormatter\u001B[39m\u001B[38;5;124m'\u001B[39m, \u001B[38;5;124m'\u001B[39m\u001B[38;5;124mLogFormatter\u001B[39m\u001B[38;5;124m'\u001B[39m,\n\u001B[0;32m   (...)\u001B[0m\n\u001B[1;32m    156\u001B[0m            \u001B[38;5;124m'\u001B[39m\u001B[38;5;124mMultipleLocator\u001B[39m\u001B[38;5;124m'\u001B[39m, \u001B[38;5;124m'\u001B[39m\u001B[38;5;124mMaxNLocator\u001B[39m\u001B[38;5;124m'\u001B[39m, \u001B[38;5;124m'\u001B[39m\u001B[38;5;124mAutoMinorLocator\u001B[39m\u001B[38;5;124m'\u001B[39m,\n\u001B[1;32m    157\u001B[0m            \u001B[38;5;124m'\u001B[39m\u001B[38;5;124mSymmetricalLogLocator\u001B[39m\u001B[38;5;124m'\u001B[39m, \u001B[38;5;124m'\u001B[39m\u001B[38;5;124mAsinhLocator\u001B[39m\u001B[38;5;124m'\u001B[39m, \u001B[38;5;124m'\u001B[39m\u001B[38;5;124mLogitLocator\u001B[39m\u001B[38;5;124m'\u001B[39m)\n",
      "File \u001B[0;32m~/miniconda3/envs/aa2024/lib/python3.11/site-packages/matplotlib/transforms.py:49\u001B[0m\n\u001B[1;32m     46\u001B[0m \u001B[38;5;28;01mfrom\u001B[39;00m \u001B[38;5;21;01mnumpy\u001B[39;00m\u001B[38;5;21;01m.\u001B[39;00m\u001B[38;5;21;01mlinalg\u001B[39;00m \u001B[38;5;28;01mimport\u001B[39;00m inv\n\u001B[1;32m     48\u001B[0m \u001B[38;5;28;01mfrom\u001B[39;00m \u001B[38;5;21;01mmatplotlib\u001B[39;00m \u001B[38;5;28;01mimport\u001B[39;00m _api\n\u001B[0;32m---> 49\u001B[0m \u001B[38;5;28;01mfrom\u001B[39;00m \u001B[38;5;21;01mmatplotlib\u001B[39;00m\u001B[38;5;21;01m.\u001B[39;00m\u001B[38;5;21;01m_path\u001B[39;00m \u001B[38;5;28;01mimport\u001B[39;00m (\n\u001B[1;32m     50\u001B[0m     affine_transform, count_bboxes_overlapping_bbox, update_path_extents)\n\u001B[1;32m     51\u001B[0m \u001B[38;5;28;01mfrom\u001B[39;00m \u001B[38;5;21;01m.\u001B[39;00m\u001B[38;5;21;01mpath\u001B[39;00m \u001B[38;5;28;01mimport\u001B[39;00m Path\n\u001B[1;32m     53\u001B[0m DEBUG \u001B[38;5;241m=\u001B[39m \u001B[38;5;28;01mFalse\u001B[39;00m\n",
      "\u001B[0;31mImportError\u001B[0m: initialization failed"
     ]
    }
   ],
   "execution_count": 1
  },
  {
   "cell_type": "markdown",
   "id": "264131be7418d8ed",
   "metadata": {},
   "source": [
    "# Introducció\n",
    "\n",
    "Avui començarem a fer feina amb **Pytorch**, ja que la segona part del curs tracta de xarxes neuronals profundes. Aquesta és una biblioteca de programari de codi obert dins l'àmbit d'aprenentatge automàtic, esta escrita en _Python_, _C++_ i _CUDA_, i basada en la biblioteca del programari _Torch_ del llenguatge _LUA_. **PyTorch** va ser desenvolupada inicialment pel departament d'intel·ligència artificial de l'empresa Facebook i l'empresa Uber.\n",
    "\n",
    "Començarem a conèixer aquesta llibreria mitjançant l'execució d'un exemple. \n",
    "\n",
    "## Generació de les dades\n",
    "Per fer aquest tutorial emprarem un conjunt de dades que s'autogenera a partir de certs paràmetres, la variable a predir es correspon amb la següent fórmula:\n",
    "\n",
    "$y(X) = 10 * \\sin(\\pi * X[0] * X[1]) + 20 * (X[2] - 0.5)^2 + 10 * X[3] + 5 * X[4] + noise * N(0, 1).$\n",
    "\n",
    "Com podeu observar en la fórmula anterior, tenim 5 variables útils, a més nosaltres en generarem 5 més per dificultar una mica el problema. Ens trobem davant un problema de regressió en el que haurem d'aconseguir que la xarxa aprengui a predir els valors de $y$ a partir dels 10 valors que es corresponen amb una observació.\n",
    "\n",
    "[Més informació](https://projecteuclid.org/journals/annals-of-statistics/volume-19/issue-1/Multivariate-Adaptive-Regression-Splines/10.1214/aos/1176347963.full)\n",
    "\n",
    "Si executau el codi següent obtindreu el conjunt de dades amb els dos conjunts que empram per entrenar:"
   ]
  },
  {
   "cell_type": "code",
   "id": "176b4f5c7205b083",
   "metadata": {
    "ExecuteTime": {
     "end_time": "2024-10-17T14:40:51.751050Z",
     "start_time": "2024-10-17T13:37:25.280191Z"
    }
   },
   "source": [
    "X, y = make_friedman1(n_samples=2000, n_features=10, noise=0.0, random_state=33)\n",
    "\n",
    "X = torch.tensor(X, dtype=torch.float32) # ho passam al tipus de dades de Pytorch\n",
    "y = torch.tensor(y, dtype=torch.float32).reshape(-1, 1)\n",
    "\n",
    "X_train, X_test, y_train, y_test = train_test_split(X, y, test_size=0.33, random_state=33,shuffle=True)\n"
   ],
   "outputs": [],
   "execution_count": 2
  },
  {
   "cell_type": "markdown",
   "id": "edd70e85324d2cf",
   "metadata": {},
   "source": [
    "## Definició de la xarxa\n",
    "\n",
    "El mòdul [torch.nn](https://pytorch.org/docs/stable/nn.html) conté els blocs basics per la construcció de les xarxes. Utilitzarem el contenidor `nn.Sequential` per definir el nostre model com una seqüència de capes que s'executen una rere l'altre. Recordeu que una xarxa no és més que un graf dirigit acíclic.\n",
    " \n",
    "Aquest és un mòdul que conté altres mòduls i els aplica en seqüència per produir una sortida. El mòdul lineal `nn.Linear` calcula la sortida de l'entrada mitjançant una funció lineal i opera els tensors interns pel seu pes i biaix. La capa ``nn.Flatten`` \"aplana\" la sortida de la capa lineal a un tensor 1D, perquè coincideixi amb la dimensionalitat que necessitem a la sortida.\n",
    "\n",
    "A més de la xarxa també definirem els paràmetres de l'entrenament. En aquest cas:\n",
    "\n",
    "- **Funció de pèrdua**: És la funció que volem minimitzar mitjançant l'entrenament. En aquest cas emprarem el error quadratic mitjà (MSE):$ \\text{MSE} = \\frac{1}{n} \\sum_{i=1}^{n} (y_i - \\hat{y}_i)^2, $ on $y_i$ són els valors reals, $\\hat{y}_i$ són els valors predits i $n$ el nombre de mostres.\n",
    "- **Rati d'aprenentatge** (_Learning Rate_): Representa la velocitat o el pas amb el qual un model d'aprenentatge automàtic ajusta els pesos i els paràmetres durant el procés d'entrenament. És equivalent al paràmetre `eta` del perceptró.\n",
    "- **Algorisme d'Optimització**: Tècnica que s'empra per ajustar els pesos i paràmetres d'un model durant el procés d'entrenament. El seu objectiu principal és minimitzar la funció de pèrdua del model. Els optimitzadors determinen com s‟actualitzen els paràmetres del model en funció de l'error calculat (és dependent de la funció de pèrdua elegida). Nosaltres usarem [ADAM](https://pytorch.org/docs/stable/generated/torch.optim.Adam.html) per ser l'algorisme més emprat en l'actualitat. "
   ]
  },
  {
   "cell_type": "code",
   "id": "968f327feed4bfa9",
   "metadata": {
    "ExecuteTime": {
     "end_time": "2024-10-17T14:40:51.751174Z",
     "start_time": "2024-10-17T13:37:25.334602Z"
    }
   },
   "source": [
    "model = torch.nn.Sequential(torch.nn.Linear(10, 5),\n",
    "                            torch.nn.Linear(5, 1)) #Hem definit un perceptró\n",
    "\n",
    "loss_fn = torch.nn.MSELoss() \n",
    "\n",
    "learning_rate =  1e-3 # Hiperparàmetre\n",
    "\n",
    "optimizer = optim.Adam(model.parameters(), lr=learning_rate)"
   ],
   "outputs": [],
   "execution_count": 3
  },
  {
   "cell_type": "markdown",
   "id": "82a278d92e4669cd",
   "metadata": {},
   "source": [
    "## Entrenament\n",
    "\n",
    "Amb **Pytorch** hem de definir el nostre propi bucle d'entrenament, en el qual haurem de realitzar totes les passes d'una iteració:\n",
    "\n",
    "1. Predicció\n",
    "2. Càlcul del valor de la pèrdua\n",
    "3. Còmput del gradient respecte als paràmetres del model.\n",
    "4. Actualització dels pesos del model"
   ]
  },
  {
   "cell_type": "code",
   "id": "e35a4a6f672e84e5",
   "metadata": {
    "ExecuteTime": {
     "end_time": "2024-10-17T14:40:51.751263Z",
     "start_time": "2024-10-17T13:37:25.592589Z"
    }
   },
   "source": [
    "iter = 3500  #nombre d'iteracions de l'entrenament\n",
    "loss_p = np.zeros(iter)  # guardam la pèrdua de cada iteració\n",
    "loss_test = np.zeros(iter)\n",
    "\n",
    "for t in range(iter):\n",
    "    # 1. PREDICCIÓ\n",
    "    # Passat endavant: calcula la y, fa la predicció passant x al model. \n",
    "    model.train()\n",
    "    y_pred = model(X_train)\n",
    "    \n",
    "    #print(y_pred.shape)\n",
    "    # 2. CALCUL DE LA PÈRDUA\n",
    "    # Computa la pèrdua: l'error de predicció vs el valor correcte\n",
    "    # Es guarda la pèrdua en un array per futures visualitzacions\n",
    "    loss = loss_fn(y_pred, y_train)\n",
    "    loss_p[t] = loss.item()\n",
    "    \n",
    "    #3. GRADIENT\n",
    "    # Posa a 0 els gradients del model per poder fer la passa enrere\n",
    "    model.zero_grad()\n",
    "\n",
    "   # Passa enrere: calcula el gradient de la pèrdua respecte a tots els paràmetres del model. \n",
    "   # Internament, s'emmagatzemen els paràmetres de cada mòdul a Tensors amb el paràmetere requires_grad=True, d\n",
    "   # de manera que aquesta crida calcularà gradients per tots els paràmetres del model.\n",
    "    loss.backward()\n",
    "\n",
    "    # Actualitza els pesos utilitzant l'algorisme d'actualització\n",
    "    #4. OPTIMITZACIO\n",
    "    with torch.no_grad():\n",
    "        optimizer.step()\n",
    "\n",
    "    model.eval()\n",
    "\n",
    "    yy_test = model(X_test)\n",
    "    loss= loss_fn(yy_test, y_test)\n",
    "    loss_test[t] = loss.item()\n",
    "\n",
    "# Mostram resultats\n",
    "plt.title(\"Funció de pèrdua (MSE) a cada iteració\")\n",
    "plt.plot(loss_p, label=\"train\")\n",
    "plt.plot(loss_test,label = \"test\")\n",
    "plt.legend()\n",
    "plt.show()"
   ],
   "outputs": [
    {
     "data": {
      "text/plain": [
       "<Figure size 640x480 with 1 Axes>"
      ],
      "image/png": "[encoded data removed]"
     },
     "metadata": {},
     "output_type": "display_data"
    }
   ],
   "execution_count": 4
  },
  {
   "cell_type": "markdown",
   "id": "e979349973f72db2",
   "metadata": {},
   "source": [
    "### TODO\n",
    "\n",
    "Si pensam una mica, la funció que estam minimitzant durant l'entrenament és justament la mètrica que empraríem per avaluar la nostra xarxa amb el conjunt de test.\n",
    " \n",
    "Es demana que incorporeu l'avaluació del conjunt de test en el bucle anterior i mostreu el valor final per pantalla."
   ]
  }
 ],
 "metadata": {
  "kernelspec": {
   "display_name": "Python 3",
   "language": "python",
   "name": "python3"
  },
  "language_info": {
   "codemirror_mode": {
    "name": "ipython",
    "version": 3
   },
   "file_extension": ".py",
   "mimetype": "text/x-python",
   "name": "python",
   "nbconvert_exporter": "python",
   "pygments_lexer": "ipython3",
   "version": "3.11.9"
  }
 },
 "nbformat": 4,
 "nbformat_minor": 5
}
